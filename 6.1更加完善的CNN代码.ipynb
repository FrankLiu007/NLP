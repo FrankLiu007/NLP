{
 "cells": [
  {
   "cell_type": "code",
   "execution_count": null,
   "outputs": [],
   "source": [
    "# 传统神经网络存在的问题:\n",
    "# 1.权值太多\n",
    "# 2.速度慢\n",
    "# Tip:\n",
    "#     数据量小,网络复杂---过拟合\n",
    "#     数据量大,网络简单---欠拟合\n",
    "# Tip:\n",
    "#     权值 : 数据量: 1:5~30倍"
   ],
   "metadata": {
    "collapsed": false,
    "pycharm": {
     "name": "#%%\n"
    }
   }
  },
  {
   "cell_type": "code",
   "execution_count": null,
   "outputs": [],
   "source": [
    "import tensorflow as tf\n",
    "from tensorflow.examples.tutorials.mnist import input_data"
   ],
   "metadata": {
    "collapsed": false,
    "pycharm": {
     "name": "#%%\n"
    }
   }
  },
  {
   "cell_type": "code",
   "execution_count": null,
   "outputs": [],
   "source": [
    "# 一、载入数据\n",
    "mnist=input_data.read_data_sets('Tensorflow_data',one_hot=True)\n",
    "\n",
    "batch_size=100\n",
    "    # 定义每个批次的大小--训练模型的时候一批次100个\n",
    "n_batch=mnist.train.num_examples // batch_size\n",
    "    # n_batch---一共有多少个批次(计算数据集总数量 // 批次大小)\n",
    "    # // 整除   "
   ],
   "metadata": {
    "collapsed": false,
    "pycharm": {
     "name": "#%%\n"
    }
   }
  },
  {
   "cell_type": "code",
   "execution_count": null,
   "outputs": [],
   "source": [
    "# +二、参数概要\n",
    "def variable_summaries(var):\n",
    "    with tf.name_scope('summaries'):\n",
    "        mean=tf.reduce_mean(var)\n",
    "        tf.summary.scalar('mean',mean) # 平均值\n",
    "        with tf.name_scope('stddev'):\n",
    "            stddev=tf.sqrt(tf.reduce_mean(tf.square(var-mean)))\n",
    "        tf.summary.scalar('stddev',stddev) # 标准差\n",
    "        tf.summary.scalar('max',tf.reduce_max(var)) # 最大值\n",
    "        tf.summary.scalar('min',tf.reduce_min(var)) # 最小值\n",
    "        tf.summary.histogram('histogram',var) # 直方图 \n",
    "        \n",
    "# 初始化权值\n",
    "def weight_variable(shape):\n",
    "    initial=tf.truncated_normal(shape,stddev=0.1)\n",
    "        # 生成一个截断的正太分布\n",
    "    return tf.Variable(initial)\n",
    "\n",
    "# 初始化偏置\n",
    "def bias_variale(shape):\n",
    "    initial=tf.constant(0.1,shape=shape)\n",
    "    return tf.Variable(initial)"
   ],
   "metadata": {
    "collapsed": false,
    "pycharm": {
     "name": "#%%\n"
    }
   }
  },
  {
   "cell_type": "code",
   "execution_count": null,
   "outputs": [],
   "source": [
    "# 三、卷积层调用\n",
    "# 使用的是Tensorflow里的一个库\n",
    "def conv2d(x,W):\n",
    "    return tf.nn.conv2d(x,W,strides=[1,1,1,1],padding='SAME')\n",
    "# conv2d---二维的卷积操作\n",
    "# x [批次,长,宽,黑白/彩色--1/3]"
   ],
   "metadata": {
    "collapsed": false,
    "pycharm": {
     "name": "#%%\n"
    }
   }
  },
  {
   "cell_type": "code",
   "execution_count": null,
   "outputs": [],
   "source": [
    "# 四、池化层调用\n",
    "def max_pool_2x2(x):\n",
    "    return tf.nn.max_pool(x,ksize=[1,2,2,1],strides=[1,2,2,1],padding='SAME')\n",
    "# kszie[1,x,y,1] 只有中间两个自己调节"
   ],
   "metadata": {
    "collapsed": false,
    "pycharm": {
     "name": "#%%\n"
    }
   }
  },
  {
   "cell_type": "code",
   "execution_count": null,
   "outputs": [],
   "source": [
    "# 五、 卷积,池化\n",
    "# 定义两个变量\n",
    "with tf.name_scope('input'):\n",
    "    x=tf.placeholder(tf.float32,[None,784])\n",
    "    y=tf.placeholder(tf.float32,[None,10])\n",
    "    with tf.name_scope('x_image'):\n",
    "        # 改变x的格式为4D的向量 [批次,长,宽,黑白/彩色--1/3]\n",
    "        x_image=tf.reshape(x,[-1,28,28,1],name='x_image')"
   ],
   "metadata": {
    "collapsed": false,
    "pycharm": {
     "name": "#%%\n"
    }
   }
  },
  {
   "cell_type": "code",
   "execution_count": null,
   "outputs": [],
   "source": [
    "# 初始化第一层卷积层的权值和偏置值(使用命名空间规整)\n",
    "with tf.name_scope('Conv1'):\n",
    "    with tf.name_scope('W_conv1'):\n",
    "        W_conv1=weight_variable([5,5,1,32]) # 5×5的采样窗口,32个卷积核从1个平面抽取特征\n",
    "    with tf.name_scope('b_conv1'):\n",
    "        b_conv1=bias_variale([32]) # 每一个卷积核一个偏置值"
   ],
   "metadata": {
    "collapsed": false,
    "pycharm": {
     "name": "#%%\n"
    }
   }
  },
  {
   "cell_type": "code",
   "execution_count": null,
   "outputs": [],
   "source": [
    "# 第一层卷积,池化\n",
    "with tf.name_scope('conv2d_1'):\n",
    "   conv2d_1=conv2d(x_image,W_conv1)+b_conv1 # 二维卷积\n",
    "with tf.name_scope('relu'):\n",
    "    h_conv1=tf.nn.relu(conv2d_1) # 激活函数\n",
    "with tf.name_scope('h_pool1'):\n",
    "    h_pool1=max_pool_2x2(h_conv1) # 池化\n"
   ],
   "metadata": {
    "collapsed": false,
    "pycharm": {
     "name": "#%%\n"
    }
   }
  },
  {
   "cell_type": "code",
   "execution_count": null,
   "outputs": [],
   "source": [
    "with tf.name_scope('Conv2'):\n",
    "    with tf.name_scope('Wconv2'):\n",
    "        # 初始化第二层卷积层的权值和偏置值\n",
    "        W_conv2=weight_variable([5,5,32,64]) # 5×5的采样窗口,32个卷积核从1个平面抽取特征\n",
    "    with tf.name_scope('b_conv2'):\n",
    "        b_conv2=bias_variale([64]) # 每一个卷积核一个偏置值"
   ],
   "metadata": {
    "collapsed": false,
    "pycharm": {
     "name": "#%%\n"
    }
   }
  },
  {
   "cell_type": "code",
   "execution_count": null,
   "outputs": [],
   "source": [
    "# 第二层卷积,池化\n",
    "with tf.name_scope('conv2d_2'): # 二维卷积\n",
    "    conv2d_2=conv2d(h_pool1,W_conv2)+b_conv2\n",
    "with tf.name_scope('relu'):\n",
    "    h_conv2=tf.nn.relu(conv2d_2)# 激活函数\n",
    "with tf.name_scope('h_pool2'):\n",
    "    h_pool2=max_pool_2x2(h_conv2) # 池化"
   ],
   "metadata": {
    "collapsed": false,
    "pycharm": {
     "name": "#%%\n"
    }
   }
  },
  {
   "cell_type": "code",
   "execution_count": null,
   "outputs": [],
   "source": [
    "# 28*28的图片\n",
    "# 第一次卷积后还是28*28,\n",
    "# 第一次池化后变为14*14\n",
    "# 第二次卷积后14*14\n",
    "# 第二次池化后7*7\n",
    "# 得到64张7*7 "
   ],
   "metadata": {
    "collapsed": false,
    "pycharm": {
     "name": "#%%\n"
    }
   }
  },
  {
   "cell_type": "code",
   "execution_count": null,
   "outputs": [],
   "source": [
    "# 七、初始化第一个全连接层的权值\n",
    "with tf.name_scope('fcl'):\n",
    "    with tf.name_scope('W_fcl'): \n",
    "        W_fc1=weight_variable([7*7*64,1024],name='W_fc1') # 上一层有7*7*64个神经元,全连接层有1024个神经元\n",
    "    \n",
    "    with tf.name_scope('b_fcl'):\n",
    "        b_fc1=bias_variale([1024],name='b_fc1') # 1024个节点\n",
    "    \n",
    "    with tf.name_scope('h_pool2_flat'):\n",
    "        # 把第二层池化层的输出扁平化为1维\n",
    "        h_pool2_flat=tf.reshape(h_pool2,[-1,7*7*64],name='h_pool2_flat')\n",
    "\n",
    "    with tf.name_scope('wx_plus_b1'):\n",
    "        wx_plus_b1=tf.matmul(h_pool2_flat,W_fc1)+b_fc1\n",
    "    with tf.name_scope('relu'):    # 第一个全连接层的输出\n",
    "        h_fc1=tf.nn.relu(wx_plus_b1) # 激活函数\n",
    "\n",
    "        # 概率表示\n",
    "    with tf.name_scope('keep_prob'):\n",
    "        keep_prob=tf.placeholder(tf.float32,name='keep_prob')\n",
    "    with tf.name_scope('h_fcl_drop'):\n",
    "        h_fc1_drop=tf.nn.dropout(h_fc1,keep_prob,name='h_fcl_drop')"
   ],
   "metadata": {
    "collapsed": false,
    "pycharm": {
     "name": "#%%\n"
    }
   }
  },
  {
   "cell_type": "code",
   "execution_count": null,
   "outputs": [],
   "source": [
    "# 初始化第二个全连接层\n",
    "with tf.name_scope('fc2'):\n",
    "    with tf.name_scope('W_fc2'): \n",
    "        W_fc2=weight_variable([1024,10],name='W_fc2')\n",
    "    with tf.name_scope('b_fc2'):\n",
    "        b_fc2=bias_variale([10],name='b_fc2')\n",
    "    with tf.name_scope('wx_plus_b2'):\n",
    "        wx_plus_b2=tf.matmul(h_fc1_drop,W_fc2)+b_fc2\n",
    "    with tf.name_scope('softmax'):\n",
    "        # 计算输出\n",
    "        prediction=tf.nn.softmax(wx_plus_b2)\n"
   ],
   "metadata": {
    "collapsed": false,
    "pycharm": {
     "name": "#%%\n"
    }
   }
  },
  {
   "cell_type": "code",
   "execution_count": null,
   "outputs": [],
   "source": [
    "# 交叉熵代价函数\n",
    "with tf.name_scope('cross_entropy'):\n",
    "    cross_entropy=tf.reduce_mean(tf.nn.softmax_cross_entropy_with_logits(labels=y,logits=prediction))\n",
    "    tf.summary.scalar('cross_entropy',cross_entropy)\n",
    "# 使用AdamOptimizer进行优化---优化器\n",
    "with tf.name_scope('train'):\n",
    "    train_step=tf.train.AdamOptimizer(1e-4).minimize(cross_entropy)\n",
    "\n",
    "# 求准确率\n",
    "with tf.name_scope('accuracy'):\n",
    "    with tf.name_scope('correct_prediction'):\n",
    "        # 结果存放在一个布尔列表中\n",
    "        correct_prediction=tf.equal(tf.argmax(prediction,1),tf.argmax(y,1))\n",
    "    with tf.name_scope('accuracy'):\n",
    "        # 求准确率\n",
    "        accuracy=tf.reduce_mean(tf.cast(correct_prediction,tf.float32))\n",
    "        tf.summary.scalar('accuracy',accuracy)\n",
    "\n",
    "# 合并所有的summary\n",
    "merged=tf.summary.merge_all()\n",
    "\n",
    "\n",
    "with tf.Session() as sess:\n",
    "    sess.run(tf.global_variables_initializer())\n",
    "    train_writer=tf.summary.FileWriter('logs/train',sess.graph)\n",
    "    test_writer=tf.summary.FileWriter('logs/test',sess.graph)\n",
    "    for i in range(21):\n",
    "        # 训练模型\n",
    "        for batch in range(n_batch):\n",
    "            xx,yy=mnist.train.next_batch(batch_size)\n",
    "            sess.run(train_step,feed_dict={x:xx,y:yy,keep_prob:0.5})\n",
    "            # 记录训练集计算的参数\n",
    "            summary=sess.run(merged,feed_dict={x:xx,y:yy,keep_prob:1.0})\n",
    "            train_writer.add_summary(summary,i)\n",
    "            # 记录测试集计算的参数\n",
    "            xx,yy=mnist.test.next_batch(batch_size)\n",
    "            summary=sess.run(merged,feed_dict={x:xx,y:yy,keep_prob:1.0})\n",
    "            test_writer.add_summary(summary,i)\n",
    "            \n",
    "            if i%100==0:\n",
    "                test_acc=sess.run(accuracy,feed_dict={x:mnist.test.images,y:mnist.test.labels,keep_prob:1.0})\n",
    "                train_acc=sess.run(accuracy,feed_dict={x:mnist.train.images[:10000],y:mnist.train.labels[:10000,keep_prob:1.0]})\n",
    "                print(\"值:\"+str(i)+\",测试集准确率:\"+str(test_acc))\n",
    "\n"
   ],
   "metadata": {
    "collapsed": false,
    "pycharm": {
     "name": "#%%\n"
    }
   }
  }
 ],
 "metadata": {
  "kernelspec": {
   "display_name": "Python 3",
   "language": "python",
   "name": "python3"
  },
  "language_info": {
   "codemirror_mode": {
    "name": "ipython",
    "version": 2
   },
   "file_extension": ".py",
   "mimetype": "text/x-python",
   "name": "python",
   "nbconvert_exporter": "python",
   "pygments_lexer": "ipython2",
   "version": "2.7.6"
  },
  "pycharm": {
   "stem_cell": {
    "cell_type": "raw",
    "source": [],
    "metadata": {
     "collapsed": false
    }
   }
  }
 },
 "nbformat": 4,
 "nbformat_minor": 0
}