{
 "cells": [
  {
   "cell_type": "code",
   "execution_count": 130,
   "metadata": {
    "collapsed": true,
    "pycharm": {
     "is_executing": false
    }
   },
   "outputs": [],
   "source": [
    "import tensorflow as tf\n",
    "from tensorflow.examples.tutorials.mnist import input_data\n",
    "# 与手写数字相关的一个工具包"
   ]
  },
  {
   "cell_type": "code",
   "execution_count": 131,
   "outputs": [
    {
     "name": "stdout",
     "text": [
      "Extracting Tensorflow_data\\train-images-idx3-ubyte.gz\n",
      "Extracting Tensorflow_data\\train-labels-idx1-ubyte.gz\n",
      "Extracting Tensorflow_data\\t10k-images-idx3-ubyte.gz\n",
      "Extracting Tensorflow_data\\t10k-labels-idx1-ubyte.gz\n"
     ],
     "output_type": "stream"
    }
   ],
   "source": [
    "# 一、载入数据,并one-hot处理,吴恩达那会直接造轮子,草了,这直接True就行,fuck\n",
    "mnist=input_data.read_data_sets(\"Tensorflow_data\",one_hot=True)\n",
    "\n",
    "batch_size=100   # 定义每个批次的大小---训练模型的时候一批次100个\n",
    "\n",
    "n_batch=mnist.train.num_examples // batch_size\n",
    "\n",
    "    # n_batch---一共有多少个批次(计算数据集总数量 // 批次大小)\n",
    "    # // 整除\n",
    "\n",
    "# 二、定义两耳光placeholder(变量)\n",
    "x=tf.placeholder(tf.float32,[None,784]) # [None,784],784个神经元\n",
    "y=tf.placeholder(tf.float32,[None,10])  # [None,10],10个输出类\n"
   ],
   "metadata": {
    "collapsed": false,
    "pycharm": {
     "name": "#%%\n",
     "is_executing": false
    }
   }
  },
  {
   "cell_type": "code",
   "execution_count": 132,
   "outputs": [],
   "source": [
    "# 三、定义一个没有隐藏层的简单神经网络(w=权值,b=偏置值)\n",
    "# 低级初始化\n",
    "w=tf.Variable(tf.zeros([784,10]))\n",
    "b=tf.Variable(tf.zeros([10]))\n",
    "prediction=tf.nn.softmax(tf.matmul(x,w)+b)  # softmax用来把神经网络传出的信号转换成一定的概率"
   ],
   "metadata": {
    "collapsed": false,
    "pycharm": {
     "name": "#%%\n",
     "is_executing": false
    }
   }
  },
  {
   "cell_type": "code",
   "execution_count": 133,
   "outputs": [],
   "source": [
    "# 四、二次代价函数\n",
    "# (1)低级代价函数\n",
    "loss=tf.reduce_mean(tf.square(y-prediction))"
   ],
   "metadata": {
    "collapsed": false,
    "pycharm": {
     "name": "#%%\n",
     "is_executing": false
    }
   }
  },
  {
   "cell_type": "code",
   "execution_count": 134,
   "outputs": [],
   "source": [
    "# 五、梯度下降法\n",
    "train_step=tf.train.GradientDescentOptimizer(0.2).minimize(loss)\n",
    "\n",
    "    # 吴恩达让我造轮子,草"
   ],
   "metadata": {
    "collapsed": false,
    "pycharm": {
     "name": "#%%\n",
     "is_executing": false
    }
   }
  },
  {
   "cell_type": "code",
   "execution_count": 135,
   "outputs": [],
   "source": [
    "# 六、初始化变量函数(Tensorflow里这个步骤看来是必不可少了)\n",
    "init=tf.global_variables_initializer()  # 初始化全部变量函数\n"
   ],
   "metadata": {
    "collapsed": false,
    "pycharm": {
     "name": "#%%\n",
     "is_executing": false
    }
   }
  },
  {
   "cell_type": "code",
   "execution_count": 136,
   "outputs": [],
   "source": [
    "# 七、写求准确率的方法---得到一个布尔值\n",
    "correct_prediction=tf.equal(tf.argmax(y,1),tf.argmax(prediction,1))\n",
    "    # 一个函数而已,比较这两个参数的大小是否一样,一样返回True,不一样返回fales\n",
    "    # tf.argmax(y,1)---求标签集里最大的值\n",
    "    # tf.argmax(output,1)---求softmax概率后的最大值"
   ],
   "metadata": {
    "collapsed": false,
    "pycharm": {
     "name": "#%%\n",
     "is_executing": false
    }
   }
  },
  {
   "cell_type": "code",
   "execution_count": 137,
   "outputs": [],
   "source": [
    "# 八、求准确率\n",
    "accurary=tf.reduce_mean(tf.cast(correct_prediction,tf.float32))\n",
    "\n",
    "    # 把上面的boole值转换为float32值"
   ],
   "metadata": {
    "collapsed": false,
    "pycharm": {
     "name": "#%%\n",
     "is_executing": false
    }
   }
  },
  {
   "cell_type": "code",
   "execution_count": 138,
   "outputs": [
    {
     "name": "stdout",
     "text": [
      "值:0,测试集准确率:0.833\n",
      "值:1,测试集准确率:0.871\n",
      "值:2,测试集准确率:0.8818\n",
      "值:3,测试集准确率:0.8878\n",
      "值:4,测试集准确率:0.8938\n",
      "值:5,测试集准确率:0.8979\n",
      "值:6,测试集准确率:0.8991\n",
      "值:7,测试集准确率:0.902\n",
      "值:8,测试集准确率:0.9028\n",
      "值:9,测试集准确率:0.9055\n",
      "值:10,测试集准确率:0.9063\n",
      "值:11,测试集准确率:0.9077\n",
      "值:12,测试集准确率:0.9079\n",
      "值:13,测试集准确率:0.9095\n",
      "值:14,测试集准确率:0.9098\n",
      "值:15,测试集准确率:0.9101\n",
      "值:16,测试集准确率:0.9116\n",
      "值:17,测试集准确率:0.9126\n",
      "值:18,测试集准确率:0.9125\n",
      "值:19,测试集准确率:0.9133\n",
      "值:20,测试集准确率:0.9133\n"
     ],
     "output_type": "stream"
    }
   ],
   "source": [
    "# 六、训练---void main()\n",
    "with tf.Session() as sess:\n",
    "    sess.run(init) # 必备变量初始化\n",
    "    for epoch in range(21): # 所有图片训练21次\n",
    "        for batch in range(n_batch): # 每次干的事\n",
    "            xx,yy=mnist.train.next_batch(batch_size)\n",
    "                # 干的啥事呢,每次取100个之前设定好的批次图片,图片和标签分别保存到xx,yy里\n",
    "            sess.run(train_step,feed_dict={x:xx,y:yy}) # 1.0是所有神经元都激活\n",
    "                # 将字典形式的数据喂进去 \n",
    "        acc=sess.run(accurary,feed_dict={x:mnist.test.images,y:mnist.test.labels})\n",
    "            # 查看准确率:调用测试集,来对比上面训练后的结果(图片,标签)\n",
    "        print(\"值:\"+str(epoch)+\",测试集准确率:\"+str(acc))"
   ],
   "metadata": {
    "collapsed": false,
    "pycharm": {
     "name": "#%%\n",
     "is_executing": false
    }
   }
  },
  {
   "cell_type": "code",
   "execution_count": 139,
   "outputs": [],
   "source": [
    "# 结果,21次训练之后,准确路从0.83到0.91\n",
    "# 1.增加次数 \n",
    "# 2.批次大小 \n",
    "# 3.加神经网络中间层 \n",
    "# 4.初始化其他值 \n",
    "# 5.代价函数变为交叉熵 \n",
    "# 6.学习率(好像是吴恩达的lanmuda)\n",
    "# !!!!!!!!!这可能就是调参吧.我操.上道了.开始炼丹了\n",
    "#----------通过对神经元的调整可以达到99%以上."
   ],
   "metadata": {
    "collapsed": false,
    "pycharm": {
     "name": "#%%     \n",
     "is_executing": false
    }
   }
  }
 ],
 "metadata": {
  "kernelspec": {
   "display_name": "Python 3",
   "language": "python",
   "name": "python3"
  },
  "language_info": {
   "codemirror_mode": {
    "name": "ipython",
    "version": 2
   },
   "file_extension": ".py",
   "mimetype": "text/x-python",
   "name": "python",
   "nbconvert_exporter": "python",
   "pygments_lexer": "ipython2",
   "version": "2.7.6"
  },
  "pycharm": {
   "stem_cell": {
    "cell_type": "raw",
    "source": [],
    "metadata": {
     "collapsed": false
    }
   }
  }
 },
 "nbformat": 4,
 "nbformat_minor": 0
}